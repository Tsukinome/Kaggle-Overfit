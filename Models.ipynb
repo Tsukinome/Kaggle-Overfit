{
 "cells": [
  {
   "cell_type": "code",
   "execution_count": null,
   "id": "52f0edd3",
   "metadata": {},
   "outputs": [],
   "source": [
    "import neptune.new as neptune\n",
    "run = neptune.init(project='mila1/kaggle-335',\n",
    "                   api_token='eyJhcGlfYWRkcmVzcyI6Imh0dHBzOi8vYXBwLm5lcHR1bmUuYWkiLCJhcGlfdXJsIjoiaHR0cHM6Ly9hcHAubmVwdHVuZS5haSIsImFwaV9rZXkiOiJkMzdkYWQxNi1iYjlmLTRlODktOTZiZi1mYjY0MjkwM2FkYTYifQ==') # your credentials\n",
    "\n",
    "run[\"JIRA\"] = \"NPT-952\"\n",
    "run[\"parameters\"] = {\"learning_rate\": 0.001,\n",
    "                     \"optimizer\": \"Adam\"}\n",
    "\n",
    "for epoch in range(100):\n",
    "   run[\"train/loss\"].log(epoch * 0.4)\n",
    "run[\"eval/f1_score\"] = 0.66"
   ]
  },
  {
   "cell_type": "code",
   "execution_count": null,
   "id": "8a136d01",
   "metadata": {},
   "outputs": [],
   "source": []
  },
  {
   "cell_type": "markdown",
   "id": "ae16e2ce",
   "metadata": {},
   "source": [
    "n this model, we can control the regularization by means of the penalty and C parameters (inverse of regularization strength - smaller values specify stronger regularization) to deal with the overfitting:"
   ]
  },
  {
   "cell_type": "code",
   "execution_count": null,
   "id": "9f8e541b",
   "metadata": {},
   "outputs": [],
   "source": [
    "from sklearn.linear_model import LogisticRegression\n",
    "\n",
    "m = LogisticRegression(\n",
    "    penalty='l1',\n",
    "    C=0.1\n",
    ")\n",
    "m.fit(train[labels], target)\n",
    "m.predict_proba(test[labels])[:,1]"
   ]
  },
  {
   "cell_type": "code",
   "execution_count": null,
   "id": "ee60b452",
   "metadata": {},
   "outputs": [],
   "source": []
  },
  {
   "cell_type": "markdown",
   "id": "3d48846c",
   "metadata": {},
   "source": [
    "For tree-based models like XGBoost, we can control the overfitting by tuning a series of parameters:\n",
    "\n",
    "Restricting the maximum depth of trees via max_depth (low values)\n",
    "Making the model more conservative via gamma and eta (high values)\n",
    "L1 and L2 regularization via reg_alpha and reg_lambda (high values)"
   ]
  },
  {
   "cell_type": "code",
   "execution_count": null,
   "id": "fbb33b51",
   "metadata": {},
   "outputs": [],
   "source": [
    "from xgboost import XGBClassifier\n",
    "\n",
    "m = XGBClassifier(\n",
    "    max_depth=2,\n",
    "    gamma=2,\n",
    "    eta=0.8,\n",
    "    reg_alpha=0.5,\n",
    "    reg_lambda=0.5\n",
    ")\n",
    "m.fit(train[labels], target)\n",
    "m.predict_proba(test[labels])[:,1]"
   ]
  },
  {
   "cell_type": "code",
   "execution_count": null,
   "id": "ac1b4304",
   "metadata": {},
   "outputs": [],
   "source": []
  },
  {
   "cell_type": "code",
   "execution_count": null,
   "id": "e823eb42",
   "metadata": {},
   "outputs": [],
   "source": []
  },
  {
   "cell_type": "code",
   "execution_count": null,
   "id": "179b7090",
   "metadata": {},
   "outputs": [],
   "source": []
  },
  {
   "cell_type": "markdown",
   "id": "c5e5d644",
   "metadata": {},
   "source": [
    "### Stackig"
   ]
  },
  {
   "cell_type": "code",
   "execution_count": null,
   "id": "a227d3ec",
   "metadata": {},
   "outputs": [],
   "source": [
    "from mlxtend.classifier import StackingClassifier\n",
    "\n",
    "m = StackingClassifier(\n",
    "    classifiers=[\n",
    "        LogisticRegression(),\n",
    "        XGBClassifier(max_depth=2)\n",
    "    ],\n",
    "    use_probas=True,\n",
    "    meta_classifier=LogisticRegression()\n",
    ")\n",
    "\n",
    "m.fit(train[labels], target),\n",
    "preds['stack_pred'] = m.predict_proba(test[labels])[:,1]\n",
    "preds.head()"
   ]
  }
 ],
 "metadata": {
  "kernelspec": {
   "display_name": "Python 3",
   "language": "python",
   "name": "python3"
  },
  "language_info": {
   "codemirror_mode": {
    "name": "ipython",
    "version": 3
   },
   "file_extension": ".py",
   "mimetype": "text/x-python",
   "name": "python",
   "nbconvert_exporter": "python",
   "pygments_lexer": "ipython3",
   "version": "3.9.6"
  }
 },
 "nbformat": 4,
 "nbformat_minor": 5
}
